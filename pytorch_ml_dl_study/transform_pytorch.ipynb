{
 "cells": [
  {
   "cell_type": "code",
   "execution_count": 1,
   "id": "7b365252-69dc-433a-be35-ff04f2daf3f4",
   "metadata": {},
   "outputs": [
    {
     "data": {
      "text/plain": [
       "'\\n변형(transform)\\n\\n데이터가 항상 머신러닝 알고리즘 학습에 필요한 최종 처리가 된 형태로 제공되지는 않습니다 변형을 해서 데이터를 조작하고 학습에 적합하게 만듭니다.\\n모든 torchVision데이터셋들은 변형 로직을 갖는 호출 가능한 객체를 받는 매개변수 두개를 변경하기 위한 tranform과 정답(label)을 변경하기 위한 target_transform을 \\n갖습니다.\\n\\nFashionMNIST특징(feature)은 PIL Image형식이며, 정답(label)은 정수(integet)입니다. 학습을 하려면 정규화(normalize)된 텐서 형태의 특징(Feature)과 원-핫(one-hot)\\n으로 부호화(encode)된 텐서 형태의 정답(label)이 필요합니다. 이러한 병형(transformation)을 하기 위해 ToTensor과 Lambda를 사용합니다.\\n'"
      ]
     },
     "execution_count": 1,
     "metadata": {},
     "output_type": "execute_result"
    }
   ],
   "source": [
    "'''\n",
    "변형(transform)\n",
    "\n",
    "데이터가 항상 머신러닝 알고리즘 학습에 필요한 최종 처리가 된 형태로 제공되지는 않습니다 변형을 해서 데이터를 조작하고 학습에 적합하게 만듭니다.\n",
    "모든 torchVision데이터셋들은 변형 로직을 갖는 호출 가능한 객체를 받는 매개변수 두개를 변경하기 위한 tranform과 정답(label)을 변경하기 위한 target_transform을 \n",
    "갖습니다.\n",
    "\n",
    "FashionMNIST특징(feature)은 PIL Image형식이며, 정답(label)은 정수(integet)입니다. 학습을 하려면 정규화(normalize)된 텐서 형태의 특징(Feature)과 원-핫(one-hot)\n",
    "으로 부호화(encode)된 텐서 형태의 정답(label)이 필요합니다. 이러한 병형(transformation)을 하기 위해 ToTensor과 Lambda를 사용합니다.\n",
    "'''"
   ]
  },
  {
   "cell_type": "code",
   "execution_count": 5,
   "id": "bb939645-859d-43b3-9252-434b76133e52",
   "metadata": {},
   "outputs": [],
   "source": [
    "import torch\n",
    "from torchvision import datasets\n",
    "from torchvision.transforms import ToTensor, Lambda\n",
    "\n",
    "ds = datasets.FashionMNIST(\n",
    "    root = \"data\",\n",
    "    train = True,\n",
    "    download = True,\n",
    "    transform = ToTensor(),\n",
    "    target_transform = Lambda(lambda y: torch.zeros(10, dtrype=torch.float).scatter_(0, torch.tensor(y), value=1)) #https://aigong.tistory.com/35\n",
    ")"
   ]
  },
  {
   "cell_type": "code",
   "execution_count": 6,
   "id": "bc3c6524-3af9-4d92-bbb7-fd6c42926c26",
   "metadata": {},
   "outputs": [
    {
     "data": {
      "text/plain": [
       "'\\nToTensor는 PIL Image나 Numpy ndarray를 FloatTensor로 변환하고, 이미지의 픽셀의 크기 값을[0., 1.]범위로 비례하여 조정(scale)합니다.\\n'"
      ]
     },
     "execution_count": 6,
     "metadata": {},
     "output_type": "execute_result"
    }
   ],
   "source": [
    "'''\n",
    "ToTensor는 PIL Image나 Numpy ndarray를 FloatTensor로 변환하고, 이미지의 픽셀의 크기 값을[0., 1.]범위로 비례하여 조정(scale)합니다.\n",
    "'''"
   ]
  },
  {
   "cell_type": "code",
   "execution_count": 7,
   "id": "0815ce2a-ece5-48b9-9f6f-e241030291ba",
   "metadata": {},
   "outputs": [
    {
     "data": {
      "text/plain": [
       "'\\nLambda변형\\n\\nLambda변형은 사용자 정의 람다(lambda)함수를 적용합니다. 여기에서는 정수를 윈-핫으로 부호호된 텐서로 바꾸는 함수를 정의합니다. 이 함수는 먼저(데이터셋 label개수인)\\n크기 10짜리 영 텐서를 만들고, scatter_를 호출하여 주어진 정답y에 해당하는 인덱스에 vlaue=1을 할당합니다.\\n'"
      ]
     },
     "execution_count": 7,
     "metadata": {},
     "output_type": "execute_result"
    }
   ],
   "source": [
    "'''\n",
    "Lambda변형\n",
    "\n",
    "Lambda변형은 사용자 정의 람다(lambda)함수를 적용합니다. 여기에서는 정수를 윈-핫으로 부호호된 텐서로 바꾸는 함수를 정의합니다. 이 함수는 먼저(데이터셋 label개수인)\n",
    "크기 10짜리 영 텐서를 만들고, scatter_를 호출하여 주어진 정답y에 해당하는 인덱스에 vlaue=1을 할당합니다.\n",
    "'''"
   ]
  },
  {
   "cell_type": "code",
   "execution_count": 8,
   "id": "d0202a52-2600-43ea-acba-6f988977817f",
   "metadata": {},
   "outputs": [],
   "source": [
    "target_transform = Lambda(lambda y: torch.zeros(10, dtype=torch.float).scatter_(dim=0, index=torch.tensor(y),value=1))"
   ]
  },
  {
   "cell_type": "code",
   "execution_count": null,
   "id": "eb21b030-352e-44b9-89ed-546b98842bc0",
   "metadata": {},
   "outputs": [],
   "source": []
  }
 ],
 "metadata": {
  "kernelspec": {
   "display_name": "Python 3 (ipykernel)",
   "language": "python",
   "name": "python3"
  },
  "language_info": {
   "codemirror_mode": {
    "name": "ipython",
    "version": 3
   },
   "file_extension": ".py",
   "mimetype": "text/x-python",
   "name": "python",
   "nbconvert_exporter": "python",
   "pygments_lexer": "ipython3",
   "version": "3.9.7"
  }
 },
 "nbformat": 4,
 "nbformat_minor": 5
}
