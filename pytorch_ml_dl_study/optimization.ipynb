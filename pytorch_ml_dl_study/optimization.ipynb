{
 "cells": [
  {
   "cell_type": "code",
   "execution_count": 23,
   "id": "71003309-bbbe-4cac-ad36-a2f4d532954a",
   "metadata": {},
   "outputs": [
    {
     "data": {
      "text/plain": [
       "'\\n모델 매개변수 최적화하기\\n\\n이제 모델과 데이터가 준비되었으니, 데이터에 매개변수를 최적화하여 모델을 학습하고, 검증하고, 테스트할 차례입니다. 모델을 학습하는 과정은 반복적인 과정을 거칩니다.\\n각 반복단계에서 모델은 출력을 추측하고, 추측과 정답사이의 loss를 계산하고, 매개변수에 대한 오류의 도함수(derivative)를 수집ㅈ한 뒤, 경사하강법을 사용하여\\n이 parameter들을 최적화(optimize)합니다.\\n'"
      ]
     },
     "execution_count": 23,
     "metadata": {},
     "output_type": "execute_result"
    }
   ],
   "source": [
    "'''\n",
    "모델 매개변수 최적화하기\n",
    "\n",
    "이제 모델과 데이터가 준비되었으니, 데이터에 매개변수를 최적화하여 모델을 학습하고, 검증하고, 테스트할 차례입니다. 모델을 학습하는 과정은 반복적인 과정을 거칩니다.\n",
    "각 반복단계에서 모델은 출력을 추측하고, 추측과 정답사이의 loss를 계산하고, 매개변수에 대한 오류의 도함수(derivative)를 수집ㅈ한 뒤, 경사하강법을 사용하여\n",
    "이 parameter들을 최적화(optimize)합니다.\n",
    "'''"
   ]
  },
  {
   "cell_type": "code",
   "execution_count": 24,
   "id": "23453f12-2701-4f4c-b1a3-6279b896bf83",
   "metadata": {},
   "outputs": [
    {
     "data": {
      "text/plain": [
       "'\\n기본(pre-requisite)코드\\n'"
      ]
     },
     "execution_count": 24,
     "metadata": {},
     "output_type": "execute_result"
    }
   ],
   "source": [
    "'''\n",
    "기본(pre-requisite)코드\n",
    "'''"
   ]
  },
  {
   "cell_type": "code",
   "execution_count": 67,
   "id": "fd05d06e-8cc4-4f15-acfa-54de18e72f3a",
   "metadata": {},
   "outputs": [],
   "source": [
    "import torch\n",
    "from torch import nn\n",
    "from torch.utils.data import DataLoader\n",
    "from torchvision import datasets\n",
    "from torchvision.transforms import ToTensor, Lambda\n",
    "\n",
    "training_data = datasets.FashionMNIST(\n",
    "    root = \"data\",\n",
    "    train = True,\n",
    "    download = True,\n",
    "    transform = ToTensor()\n",
    ")\n",
    "\n",
    "test_data = datasets.FashionMNIST(\n",
    "    root = \"data\",\n",
    "    train = False,\n",
    "    download = True,\n",
    "    transform = ToTensor()\n",
    ")\n",
    "\n",
    "train_dataloader = DataLoader(training_data, batch_size=64)\n",
    "test_dataloader = DataLoader(test_data, batch_size=64)\n",
    "\n",
    "class NeuralNetwork(nn.Module):\n",
    "    def __init__(self):\n",
    "        super(NeuralNetwork, self).__init__() #https://dojang.io/mod/page/view.php?id=2386\n",
    "        self.flatten = nn.Flatten()\n",
    "        self.linear_relu_stack = nn.Sequential(\n",
    "            nn.Linear(28*28, 512),\n",
    "            nn.ReLU(),\n",
    "            nn.Linear(512,512),\n",
    "            nn.ReLU(),\n",
    "            nn.Linear(512,10)\n",
    "        )\n",
    "    def forward(self,x):\n",
    "        x=self.flatten(x)\n",
    "        logits = self.linear_relu_stack(x)\n",
    "        return logits\n",
    "\n",
    "model = NeuralNetwork()"
   ]
  },
  {
   "cell_type": "code",
   "execution_count": 68,
   "id": "4964468d-a6db-47ec-881b-02736a1f42d2",
   "metadata": {},
   "outputs": [
    {
     "data": {
      "text/plain": [
       "'\\n하이퍼파라미터(Hyperparameter)\\n\\n하이퍼파라미터(Hyperparameter)는 모델 최적화 과정을 제어할 수 잇는 조절 가능한 매개변수입니다. 서로 다른 하이퍼파라미터 값은 모델 학습과 수렴율(convergence rate)\\n에 영향을 미칠 수 있습니다.\\n\\n학습시에는 다음과 같은 하ㅣ퍼파라미터를 정의합니다.\\n    1. 에폭(epoch)수 - 데이터셋을 반복하는 횟수\\n    2. 배치크기(batch size) - 매개변수가 갱신되기 전 신경망을 통해 전파된 데이터 샘플의 수\\n    3. 학습률(learning rate) - 각 배치/에폭에서 모델의 매개변수를 조절하는 비율, 값이 작을수혹 학습 속도가 느려지고,\\n                              값이 크면 학습 중 예측할 수 없는 동작이 발생할 수 있습니다.\\n'"
      ]
     },
     "execution_count": 80,
     "metadata": {},
     "output_type": "execute_result"
    }
   ],
   "source": [
    "'''\n",
    "하이퍼파라미터(Hyperparameter)\n",
    "\n",
    "하이퍼파라미터(Hyperparameter)는 모델 최적화 과정을 제어할 수 잇는 조절 가능한 매개변수입니다. 서로 다른 하이퍼파라미터 값은 모델 학습과 수렴율(convergence rate)\n",
    "에 영향을 미칠 수 있습니다.\n",
    "\n",
    "학습시에는 다음과 같은 하ㅣ퍼파라미터를 정의합니다.\n",
    "    1. 에폭(epoch)수 - 데이터셋을 반복하는 횟수\n",
    "    2. 배치크기(batch size) - 매개변수가 갱신되기 전 신경망을 통해 전파된 데이터 샘플의 수\n",
    "    3. 학습률(learning rate) - 각 배치/에폭에서 모델의 매개변수를 조절하는 비율, 값이 작을수혹 학습 속도가 느려지고,\n",
    "                              값이 크면 학습 중 예측할 수 없는 동작이 발생할 수 있습니다.\n",
    "'''"
   ]
  },
  {
   "cell_type": "code",
   "execution_count": 69,
   "id": "3428af61-71d2-405b-8d54-c0530eb92113",
   "metadata": {},
   "outputs": [],
   "source": [
    "learning_rate = 1e-3\n",
    "batch_size = 64\n",
    "epochs = 5"
   ]
  },
  {
   "cell_type": "code",
   "execution_count": 70,
   "id": "a787d099-230b-4014-a1b9-559e673497d5",
   "metadata": {},
   "outputs": [
    {
     "data": {
      "text/plain": [
       "'\\n최적화 단계(Optimization Loop)\\n\\n하이퍼마라미터를 설정한 뒤에는 최적화 단계를 통해 모델을 학습하고 최적화할 수 있습니다. 최적화 단계의 각 반복을 에폭이라고 부릅니다.\\n하나의 에폭은 다음 두 부분으로 구성됩니다.\\n    1. 학습단계(train loop)-학습용 데이터셋을 반복하고 최적의 매개변수로 수렴합니다.\\n    2. 검증/테스트단계(validation/test loop)-모델 성능이 개선되고 있는지를 확인하기 위해 테스트 데이터셋을 반복합니다.\\n학습단계(training loop)에서 이러나는 몇 가지 개념들을 간략히 살펴보겠습니다. 최적화 단계(optimization loop)를 보면서 전체 구현 부분으로 건너뛰면 됨.\\n\\n손실함수(loss function / cost function)\\n학습용 데이터를 제공하면, 학습되지 않은 신경망은 정답을 제고하지 않을 확률이 높습니다. loss function은 획득한 결과와 실제 값 사이의\\n틀린 정도(degree fo dissimilarity)를 측정하며, 학습 중에 이 값을 최소화하려고 합니다. 주어진 데이터 샘플을 입력으로 계산한 예측고 정답(label)을 비교하여\\n손실(loss)을 계산합니다.\\n\\n일반적으로 손실함수에는 회귀 문제(regression task)에 사용하는 nn.MSELoss(평균 제곱 오차(MSE; Mean Square Error))나 classcification에 사용하는 nn.NLLLoss,\\n그리고 nn.LogSoftmax와 nn.NLLLoss를 합친 nn.CrossEntropyLoss등이 있습니다.\\n\\n모델의 출력 로짓(logit)을 nn.CrossEntropyLoss에 전달하여 로짓(logit)을 정규화하고 예측 오류를 계산합니다.\\n'"
      ]
     },
     "execution_count": 82,
     "metadata": {},
     "output_type": "execute_result"
    }
   ],
   "source": [
    "'''\n",
    "최적화 단계(Optimization Loop)\n",
    "\n",
    "하이퍼마라미터를 설정한 뒤에는 최적화 단계를 통해 모델을 학습하고 최적화할 수 있습니다. 최적화 단계의 각 반복을 에폭이라고 부릅니다.\n",
    "하나의 에폭은 다음 두 부분으로 구성됩니다.\n",
    "    1. 학습단계(train loop)-학습용 데이터셋을 반복하고 최적의 매개변수로 수렴합니다.\n",
    "    2. 검증/테스트단계(validation/test loop)-모델 성능이 개선되고 있는지를 확인하기 위해 테스트 데이터셋을 반복합니다.\n",
    "학습단계(training loop)에서 이러나는 몇 가지 개념들을 간략히 살펴보겠습니다. 최적화 단계(optimization loop)를 보면서 전체 구현 부분으로 건너뛰면 됨.\n",
    "\n",
    "손실함수(loss function / cost function)\n",
    "학습용 데이터를 제공하면, 학습되지 않은 신경망은 정답을 제고하지 않을 확률이 높습니다. loss function은 획득한 결과와 실제 값 사이의\n",
    "틀린 정도(degree fo dissimilarity)를 측정하며, 학습 중에 이 값을 최소화하려고 합니다. 주어진 데이터 샘플을 입력으로 계산한 예측고 정답(label)을 비교하여\n",
    "손실(loss)을 계산합니다.\n",
    "\n",
    "일반적으로 손실함수에는 회귀 문제(regression task)에 사용하는 nn.MSELoss(평균 제곱 오차(MSE; Mean Square Error))나 classcification에 사용하는 nn.NLLLoss,\n",
    "그리고 nn.LogSoftmax와 nn.NLLLoss를 합친 nn.CrossEntropyLoss등이 있습니다.\n",
    "\n",
    "모델의 출력 로짓(logit)을 nn.CrossEntropyLoss에 전달하여 로짓(logit)을 정규화하고 예측 오류를 계산합니다.\n",
    "'''"
   ]
  },
  {
   "cell_type": "code",
   "execution_count": 71,
   "id": "52512120-95f7-48f2-abfd-aa56746cb3fb",
   "metadata": {},
   "outputs": [],
   "source": [
    "loss_fn = nn.CrossEntropyLoss()"
   ]
  },
  {
   "cell_type": "code",
   "execution_count": 72,
   "id": "85d0da33-1432-4ce8-8c8f-eadd6f9ac60c",
   "metadata": {},
   "outputs": [
    {
     "data": {
      "text/plain": [
       "'\\n옵티마이저(Optimizer)\\n\\n최적화는 각 학습 단계에서 모델의 오류를 중이기 위해 모델 매개변수를 조정하는 과정입니다. 최적화 알고리즘은 이 과정이 수행되는 방식\\n(SGD; Stochastic Gradient Descent)을 정의합니다. 모든 최적화 절차(logic)는 optimizer객체에 캡슐화(encapsulate)됩니다.여기에서는 SGD옵티마이저를 사용하고 있으며\\npytorch에는 ADAM이나 RMSProp와 같은 다른 종류의 모델과 데이터에서 더 잘 동작하는 다양한 옵티마이저가 있습니다.\\n\\n학습하려는 모델의 매개변수와 learning rate Hyperparameter를 등록하여 옵티마이저를 초기화합니다.\\n'"
      ]
     },
     "execution_count": 84,
     "metadata": {},
     "output_type": "execute_result"
    }
   ],
   "source": [
    "'''\n",
    "옵티마이저(Optimizer)\n",
    "\n",
    "최적화는 각 학습 단계에서 모델의 오류를 중이기 위해 모델 매개변수를 조정하는 과정입니다. 최적화 알고리즘은 이 과정이 수행되는 방식\n",
    "(SGD; Stochastic Gradient Descent)을 정의합니다. 모든 최적화 절차(logic)는 optimizer객체에 캡슐화(encapsulate)됩니다.여기에서는 SGD옵티마이저를 사용하고 있으며\n",
    "pytorch에는 ADAM이나 RMSProp와 같은 다른 종류의 모델과 데이터에서 더 잘 동작하는 다양한 옵티마이저가 있습니다.\n",
    "\n",
    "학습하려는 모델의 매개변수와 learning rate Hyperparameter를 등록하여 옵티마이저를 초기화합니다.\n",
    "'''"
   ]
  },
  {
   "cell_type": "code",
   "execution_count": 73,
   "id": "16440172-3881-4834-ba91-62ce59966f3b",
   "metadata": {},
   "outputs": [],
   "source": [
    "optimizer = torch.optim.SGD(model.parameters(), lr = learning_rate)"
   ]
  },
  {
   "cell_type": "code",
   "execution_count": 74,
   "id": "ce4a0ae3-15cf-4f6e-b8cc-8ab26b178d3d",
   "metadata": {},
   "outputs": [
    {
     "data": {
      "text/plain": [
       "'\\n학습단계(loop)에서 최적화는 세단계로 이뤄집니다.\\n    1. optimizer.zero_grad()를 호출하여 모델 매개변수의 변화도를 재설정합니다. 기본적으로 변화도는 더해지기(add up)때문에 중복 계산을 막기 위해 반복할 때마다\\n       명시적으로 0으로 설정합니다.\\n    2. loss.backwards()를 호출하여 예측손실(prediction loss)을 역전파합니다. PyTorch는 각 매개변수에 대한 손실의 변화도를 저장합니다.\\n    3. 변화도를 계산한 뒤에는 optimizer.step()을 호출하여 역전파 단계에서 수집된 변화도로 매개변수를 조정합니다.\\n'"
      ]
     },
     "execution_count": 86,
     "metadata": {},
     "output_type": "execute_result"
    }
   ],
   "source": [
    "'''\n",
    "학습단계(loop)에서 최적화는 세단계로 이뤄집니다.\n",
    "    1. optimizer.zero_grad()를 호출하여 모델 매개변수의 변화도를 재설정합니다. 기본적으로 변화도는 더해지기(add up)때문에 중복 계산을 막기 위해 반복할 때마다\n",
    "       명시적으로 0으로 설정합니다.\n",
    "    2. loss.backwards()를 호출하여 예측손실(prediction loss)을 역전파합니다. PyTorch는 각 매개변수에 대한 손실의 변화도를 저장합니다.\n",
    "    3. 변화도를 계산한 뒤에는 optimizer.step()을 호출하여 역전파 단계에서 수집된 변화도로 매개변수를 조정합니다.\n",
    "'''"
   ]
  },
  {
   "cell_type": "code",
   "execution_count": 75,
   "id": "7c630fbd-e67f-402d-a10a-8db011b00d21",
   "metadata": {},
   "outputs": [
    {
     "data": {
      "text/plain": [
       "'\\n전체 구현\\n\\n최적화 코드를 반복하여 수행하는 train_loop와 테스트 뎅터로 모델의 성늘을 측정하는 test_loop를 정의하였습니다.\\n'"
      ]
     },
     "execution_count": 87,
     "metadata": {},
     "output_type": "execute_result"
    }
   ],
   "source": [
    "'''\n",
    "전체 구현\n",
    "\n",
    "최적화 코드를 반복하여 수행하는 train_loop와 테스트 데이터로 모델의 성늘을 측정하는 test_loop를 정의하였습니다.\n",
    "'''"
   ]
  },
  {
   "cell_type": "code",
   "execution_count": 106,
   "id": "6356a7fe-a9f5-4860-9cf9-839ef8858422",
   "metadata": {},
   "outputs": [],
   "source": [
    "def train_loop(dataloader, model, loss_fn, optimizer):\n",
    "    size = len(dataloader.dataset)\n",
    "    for batch, (X, y) in enumerate(dataloader):\n",
    "        #예측(prediction)과 손실(loss) 계산\n",
    "        pred = model(X)\n",
    "        loss = loss_fn(pred,y)\n",
    "        \n",
    "        #역전파\n",
    "        optimizer.zero_grad()\n",
    "        loss.backward()\n",
    "        optimizer.step()   #https://anweh.tistory.com/22\n",
    "        \n",
    "        if batch % 100 == 0:\n",
    "            loss,current = loss.item(), batch * len(X)\n",
    "            print(f\"loss:{loss:>7f} [{current:>5d}/{size:>5d}]\")\n",
    "            \n",
    "            \n",
    "def test_loop(dataloader, model, loss_fn):\n",
    "    size = len(dataloader.dataset)\n",
    "    num_batches = len(dataloader)\n",
    "    test_loss, correct = 0,0\n",
    "    \n",
    "    with torch.no_grad():\n",
    "        for X, y in dataloader:\n",
    "            pred = model(X)\n",
    "            test_loss += loss_fn(pred, y).item()\n",
    "            correct += (pred.argmax(1) == y).type(torch.float).sum().item()\n",
    "            \n",
    "        test_loss /= num_batches\n",
    "        correct /= size\n",
    "        print(f\"Test Error: \\n Accuracy: {100*correct:>0.1f}%, Avg loss: {test_loss:>8f}\\n\")"
   ]
  },
  {
   "cell_type": "code",
   "execution_count": 107,
   "id": "6b48a98d-d06c-45da-8eb6-c4e6be05ff76",
   "metadata": {},
   "outputs": [
    {
     "data": {
      "text/plain": [
       "'\\n손실 함수와 옵티마이저를 초기화하고 train_loop와 test_loop에 전달합니다. 모델의 성능 향상을 알아보기 위해 자유롭게 에폭수를 증가시켜 볼 수 있습니다.\\n'"
      ]
     },
     "execution_count": 107,
     "metadata": {},
     "output_type": "execute_result"
    }
   ],
   "source": [
    "'''\n",
    "손실 함수와 옵티마이저를 초기화하고 train_loop와 test_loop에 전달합니다. 모델의 성능 향상을 알아보기 위해 자유롭게 에폭수를 증가시켜 볼 수 있습니다.\n",
    "'''"
   ]
  },
  {
   "cell_type": "code",
   "execution_count": 108,
   "id": "cc8849be-da22-4597-861e-849c6c5c9205",
   "metadata": {},
   "outputs": [
    {
     "name": "stdout",
     "output_type": "stream",
     "text": [
      "Epoch 1\n",
      " ----------------------------\n",
      "loss:1.033977 [    0/60000]\n",
      "loss:1.059021 [ 6400/60000]\n",
      "loss:0.851515 [12800/60000]\n",
      "loss:1.014749 [19200/60000]\n",
      "loss:0.900066 [25600/60000]\n",
      "loss:0.922235 [32000/60000]\n",
      "loss:0.974624 [38400/60000]\n",
      "loss:0.910370 [44800/60000]\n",
      "loss:0.949565 [51200/60000]\n",
      "loss:0.894357 [57600/60000]\n",
      "Test Error: \n",
      " Accuracy: 67.1%, Avg loss: 0.906123\n",
      "\n",
      "Epoch 2\n",
      " ----------------------------\n",
      "loss:0.950442 [    0/60000]\n",
      "loss:0.995430 [ 6400/60000]\n",
      "loss:0.773522 [12800/60000]\n",
      "loss:0.954057 [19200/60000]\n",
      "loss:0.845709 [25600/60000]\n",
      "loss:0.855196 [32000/60000]\n",
      "loss:0.922437 [38400/60000]\n",
      "loss:0.863535 [44800/60000]\n",
      "loss:0.893513 [51200/60000]\n",
      "loss:0.847116 [57600/60000]\n",
      "Test Error: \n",
      " Accuracy: 68.4%, Avg loss: 0.856020\n",
      "\n",
      "Epoch 3\n",
      " ----------------------------\n",
      "loss:0.884325 [    0/60000]\n",
      "loss:0.946149 [ 6400/60000]\n",
      "loss:0.714151 [12800/60000]\n",
      "loss:0.907585 [19200/60000]\n",
      "loss:0.806220 [25600/60000]\n",
      "loss:0.803973 [32000/60000]\n",
      "loss:0.881998 [38400/60000]\n",
      "loss:0.830615 [44800/60000]\n",
      "loss:0.851184 [51200/60000]\n",
      "loss:0.810182 [57600/60000]\n",
      "Test Error: \n",
      " Accuracy: 69.6%, Avg loss: 0.817393\n",
      "\n",
      "Epoch 4\n",
      " ----------------------------\n",
      "loss:0.830799 [    0/60000]\n",
      "loss:0.905732 [ 6400/60000]\n",
      "loss:0.667668 [12800/60000]\n",
      "loss:0.871057 [19200/60000]\n",
      "loss:0.775840 [25600/60000]\n",
      "loss:0.764232 [32000/60000]\n",
      "loss:0.849277 [38400/60000]\n",
      "loss:0.806281 [44800/60000]\n",
      "loss:0.818367 [51200/60000]\n",
      "loss:0.779890 [57600/60000]\n",
      "Test Error: \n",
      " Accuracy: 70.7%, Avg loss: 0.786450\n",
      "\n",
      "Epoch 5\n",
      " ----------------------------\n",
      "loss:0.786420 [    0/60000]\n",
      "loss:0.871306 [ 6400/60000]\n",
      "loss:0.630141 [12800/60000]\n",
      "loss:0.841677 [19200/60000]\n",
      "loss:0.751341 [25600/60000]\n",
      "loss:0.733006 [32000/60000]\n",
      "loss:0.821388 [38400/60000]\n",
      "loss:0.787041 [44800/60000]\n",
      "loss:0.792214 [51200/60000]\n",
      "loss:0.754290 [57600/60000]\n",
      "Test Error: \n",
      " Accuracy: 71.9%, Avg loss: 0.760624\n",
      "\n",
      "Epoch 6\n",
      " ----------------------------\n",
      "loss:0.748547 [    0/60000]\n",
      "loss:0.840937 [ 6400/60000]\n",
      "loss:0.598904 [12800/60000]\n",
      "loss:0.817496 [19200/60000]\n",
      "loss:0.730704 [25600/60000]\n",
      "loss:0.708055 [32000/60000]\n",
      "loss:0.796592 [38400/60000]\n",
      "loss:0.770879 [44800/60000]\n",
      "loss:0.770539 [51200/60000]\n",
      "loss:0.732001 [57600/60000]\n",
      "Test Error: \n",
      " Accuracy: 73.2%, Avg loss: 0.738266\n",
      "\n",
      "Epoch 7\n",
      " ----------------------------\n",
      "loss:0.715258 [    0/60000]\n",
      "loss:0.813612 [ 6400/60000]\n",
      "loss:0.572167 [12800/60000]\n",
      "loss:0.797028 [19200/60000]\n",
      "loss:0.712752 [25600/60000]\n",
      "loss:0.687610 [32000/60000]\n",
      "loss:0.773952 [38400/60000]\n",
      "loss:0.756608 [44800/60000]\n",
      "loss:0.751954 [51200/60000]\n",
      "loss:0.712102 [57600/60000]\n",
      "Test Error: \n",
      " Accuracy: 74.2%, Avg loss: 0.718334\n",
      "\n",
      "Epoch 8\n",
      " ----------------------------\n",
      "loss:0.685561 [    0/60000]\n",
      "loss:0.788622 [ 6400/60000]\n",
      "loss:0.548668 [12800/60000]\n",
      "loss:0.779276 [19200/60000]\n",
      "loss:0.696804 [25600/60000]\n",
      "loss:0.670397 [32000/60000]\n",
      "loss:0.752953 [38400/60000]\n",
      "loss:0.743491 [44800/60000]\n",
      "loss:0.735599 [51200/60000]\n",
      "loss:0.694072 [57600/60000]\n",
      "Test Error: \n",
      " Accuracy: 75.2%, Avg loss: 0.700230\n",
      "\n",
      "Epoch 9\n",
      " ----------------------------\n",
      "loss:0.658864 [    0/60000]\n",
      "loss:0.765611 [ 6400/60000]\n",
      "loss:0.527748 [12800/60000]\n",
      "loss:0.763532 [19200/60000]\n",
      "loss:0.682578 [25600/60000]\n",
      "loss:0.655555 [32000/60000]\n",
      "loss:0.733343 [38400/60000]\n",
      "loss:0.731326 [44800/60000]\n",
      "loss:0.721121 [51200/60000]\n",
      "loss:0.677461 [57600/60000]\n",
      "Test Error: \n",
      " Accuracy: 76.1%, Avg loss: 0.683604\n",
      "\n",
      "Epoch 10\n",
      " ----------------------------\n",
      "loss:0.634647 [    0/60000]\n",
      "loss:0.744274 [ 6400/60000]\n",
      "loss:0.509023 [12800/60000]\n",
      "loss:0.749292 [19200/60000]\n",
      "loss:0.669797 [25600/60000]\n",
      "loss:0.642495 [32000/60000]\n",
      "loss:0.714999 [38400/60000]\n",
      "loss:0.720107 [44800/60000]\n",
      "loss:0.708156 [51200/60000]\n",
      "loss:0.662099 [57600/60000]\n",
      "Test Error: \n",
      " Accuracy: 76.8%, Avg loss: 0.668270\n",
      "\n",
      "Done!\n"
     ]
    }
   ],
   "source": [
    "loss_fn = nn.CrossEntropyLoss()\n",
    "optimizer = torch.optim.SGD(model.parameters(), lr = learning_rate)\n",
    "\n",
    "epochs = 10\n",
    "for t in range(epochs):\n",
    "    print(f\"Epoch {t+1}\\n ----------------------------\")\n",
    "    train_loop(train_dataloader, model, loss_fn,optimizer)\n",
    "    test_loop(test_dataloader, model, loss_fn)\n",
    "print(\"Done!\")"
   ]
  },
  {
   "cell_type": "code",
   "execution_count": null,
   "id": "5e112a45-6803-41af-95bb-bce6d81b8079",
   "metadata": {},
   "outputs": [],
   "source": []
  },
  {
   "cell_type": "code",
   "execution_count": null,
   "id": "db94bcd9-da63-42bb-ab3b-c4b301cec328",
   "metadata": {},
   "outputs": [],
   "source": []
  }
 ],
 "metadata": {
  "kernelspec": {
   "display_name": "Python 3 (ipykernel)",
   "language": "python",
   "name": "python3"
  },
  "language_info": {
   "codemirror_mode": {
    "name": "ipython",
    "version": 3
   },
   "file_extension": ".py",
   "mimetype": "text/x-python",
   "name": "python",
   "nbconvert_exporter": "python",
   "pygments_lexer": "ipython3",
   "version": "3.9.7"
  }
 },
 "nbformat": 4,
 "nbformat_minor": 5
}
