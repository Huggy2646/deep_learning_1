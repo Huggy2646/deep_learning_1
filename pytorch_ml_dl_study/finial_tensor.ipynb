{
 "cells": [
  {
   "cell_type": "markdown",
   "id": "24b2abca-35cd-4374-a54d-55e476b493f0",
   "metadata": {},
   "source": [
    "<h1>\n",
    "    1. Tensor(텐서)\n",
    "</h1>\n",
    "텐서는(tensor)는 배열(array)이나 행렬(matrix)과 매우 유사란 특수한 자료구조입니다. pytorch에서는 텐서를 사용하여 모델의 입력과 출력뿐만 아니라 모델의 매개변수를 부호화 합니다.<br><br>\n",
    "GPU나 다른 연산 가속을 위한 특수한 하드웨어에서 실행할 수 있다는 점을 제외하면, 텐서는 NumPy의 ndarray와 매우 유사합니다. 만약 ndarray에 익숙하다면 tensor API를 바로 사용할 수 있습니다. 만약 그렇지 않다면, 이 튜토리얼을 따라하며 API를 빠르게 익혀볼 수 있습니다."
   ]
  },
  {
   "cell_type": "code",
   "execution_count": null,
   "id": "2f6afcf1-e3d8-4ea1-a820-74052e491e79",
   "metadata": {},
   "outputs": [],
   "source": []
  },
  {
   "cell_type": "code",
   "execution_count": 2,
   "id": "2b9f2811-f865-4124-898b-40a2b993ae5e",
   "metadata": {},
   "outputs": [],
   "source": [
    "import torch as tc\n",
    "import numpy as np"
   ]
  },
  {
   "cell_type": "markdown",
   "id": "b8656ae1-4d43-4d6a-ac33-1cbab78a3769",
   "metadata": {},
   "source": [
    "<h3>\n",
    "    1-1. Tensor초기화하기\n",
    "</h3>\n",
    "텐서는 여러가지 방법으로 초기화할 수 잇습니다. 다음 예를 살펴보자. <br><br>\n",
    "<strong> 데이터로부터 직접생성하기</strong>\n",
    "&nbsp; 데이터로부터 직접 텐서를 생성할 수 있습니다. 데이터의 data type은 자동으로 유추합니다."
   ]
  },
  {
   "cell_type": "code",
   "execution_count": 9,
   "id": "a6b7a38c-ed70-4d1f-8f61-18d644250369",
   "metadata": {},
   "outputs": [
    {
     "name": "stdout",
     "output_type": "stream",
     "text": [
      "tensor([[1, 2],\n",
      "        [3, 4]])\n"
     ]
    }
   ],
   "source": [
    "data = [[1,2],[3,4]]\n",
    "x_data = tc.tensor(data)\n",
    "print(x_data)"
   ]
  },
  {
   "cell_type": "markdown",
   "id": "414cc2da-a346-4123-9e23-8b9481fa4216",
   "metadata": {},
   "source": [
    "<strong>Numpy 배열로부터 생성하기</strong>\n",
    "&nbsp; 텐서는 Numpy 배열로 생성할 수 있습니다.(그 반대도 가능)"
   ]
  },
  {
   "cell_type": "code",
   "execution_count": 6,
   "id": "76095494-65e1-4c1a-885c-06330c0c5244",
   "metadata": {},
   "outputs": [
    {
     "name": "stdout",
     "output_type": "stream",
     "text": [
      "tensor([[1, 2],\n",
      "        [3, 4]], dtype=torch.int32)\n"
     ]
    }
   ],
   "source": [
    "np_array = np.array(data)\n",
    "x_np = tc.tensor(np_array)\n",
    "print(x_np)"
   ]
  },
  {
   "cell_type": "markdown",
   "id": "3d3129e2-55ae-4d22-ad7d-133d93b59300",
   "metadata": {},
   "source": [
    "<strong>다른 텐서로부터 생성하기</strong>\n",
    "&nbsp; 명시적으로 재정의(override)하지 않는다면, 인자로 주어진 텐서의 속성(모양(shape),자료형(datatype))을 유지합니다."
   ]
  },
  {
   "cell_type": "code",
   "execution_count": 12,
   "id": "f97ef14e-27ce-47fc-8fa0-265f348a5a2d",
   "metadata": {},
   "outputs": [
    {
     "name": "stdout",
     "output_type": "stream",
     "text": [
      "Ones Tensor: \n",
      " tensor([[1, 1],\n",
      "        [1, 1]])\n",
      "\n",
      "Random Tensor: \n",
      " tensor([[0.4192, 0.0215],\n",
      "        [0.2511, 0.0019]]) \n",
      "\n"
     ]
    }
   ],
   "source": [
    "x_one = tc.ones_like(x_data) # x_data의 속성을 유지합니다.\n",
    "print(f\"Ones Tensor: \\n {x_one}\\n\")\n",
    "\n",
    "x_rand = tc.rand_like(x_data, dtype=tc.float) # x_data의 속성을 덮어씁니다.(shape은 유지하되, datatype속성을 바꿈)\n",
    "print(f\"Random Tensor: \\n {x_rand} \\n\")"
   ]
  },
  {
   "cell_type": "markdown",
   "id": "e3f6611d-ab85-403c-b355-2a9fc9faf4f0",
   "metadata": {},
   "source": [
    "<strong>무작위(random)또는 상수(constant)값을 사용하기</strong> &nbsp; shape은 텐서의 차원(dimension)을 나타내는 튜플로 아래함수들에서는 출력 텐서의 차원을 결정한다."
   ]
  },
  {
   "cell_type": "code",
   "execution_count": 16,
   "id": "e21060b4-cfee-415f-b4e6-fe05bb0b0561",
   "metadata": {},
   "outputs": [
    {
     "name": "stdout",
     "output_type": "stream",
     "text": [
      "Random Tensor: \n",
      " tensor([[0.0825, 0.2173, 0.9250],\n",
      "        [0.6320, 0.1496, 0.4254]]) \n",
      "\n",
      "Ones Tensor: \n",
      " tensor([[1., 1., 1.],\n",
      "        [1., 1., 1.]])\n",
      "\n",
      "Zeros Tensor: \n",
      " tensor([[0., 0., 0.],\n",
      "        [0., 0., 0.]])\n",
      "\n"
     ]
    }
   ],
   "source": [
    "shape = (2,3)\n",
    "rand_tensor = tc.rand(shape)\n",
    "ones_tensor = tc.ones(shape)\n",
    "zeros_tensor = tc.zeros(shape)\n",
    "\n",
    "print(f\"Random Tensor: \\n {rand_tensor} \\n\")\n",
    "print(f\"Ones Tensor: \\n {ones_tensor}\\n\")\n",
    "print(f\"Zeros Tensor: \\n {zeros_tensor}\\n\")"
   ]
  },
  {
   "cell_type": "markdown",
   "id": "bc21f465-d65e-4031-966a-5201952bb5af",
   "metadata": {},
   "source": [
    "<h3>\n",
    "    1-2. 텐서의 속성(Attribute)\n",
    "</h3>\n",
    "\n",
    "텐서의 속성은 텐서의 모양(shape), 자료형(datatype) 및 어느 장치에 저장되는지를 나타냅니다."
   ]
  },
  {
   "cell_type": "code",
   "execution_count": 20,
   "id": "53a475f9-8139-4e0f-9edb-02a5db88bdf0",
   "metadata": {},
   "outputs": [
    {
     "name": "stdout",
     "output_type": "stream",
     "text": [
      "Shape of tensor:torch.Size([3, 4])\n",
      "Datatype of tensor:torch.float32\n",
      "Device tensor is stored on:cpu\n"
     ]
    }
   ],
   "source": [
    "tensor = tc.rand(3,4)\n",
    "\n",
    "print(f\"Shape of tensor:{tensor.shape}\")\n",
    "print(f\"Datatype of tensor:{tensor.dtype}\")\n",
    "print(f\"Device tensor is stored on:{tensor.device}\")"
   ]
  },
  {
   "cell_type": "markdown",
   "id": "7aa7a618-8d95-4c0e-acbe-dd6e0d6b0c7d",
   "metadata": {},
   "source": [
    "<h3>\n",
    "    1-3. 텐서 연산(operation)\n",
    "</h3>\n",
    "\n",
    "전치(transposing),인덱싱(indexing),슬라이싱(Slicing),수학계산, 선형대수, 임의 샘플링(random sampling)등이 있다.<br>\n",
    "각 연산들은(일반적으로 cpu보다 빠른) GPU에서 실행할 수 있습니다."
   ]
  },
  {
   "cell_type": "code",
   "execution_count": 21,
   "id": "5eae5507-92b4-42eb-be31-96959e38d075",
   "metadata": {},
   "outputs": [],
   "source": [
    "if tc.cuda.is_available():\n",
    "    tensor = tensor.to(\"cuda\")\n",
    "    print(f\"Device tensor is stored on: {tensor.device}\")"
   ]
  },
  {
   "cell_type": "markdown",
   "id": "2c534cda-f75d-4b7e-8fb7-296b1cd700a4",
   "metadata": {},
   "source": [
    "<strong>Numpy식의 표준 인덱싱과 슬라이싱</strong>"
   ]
  },
  {
   "cell_type": "code",
   "execution_count": 24,
   "id": "15760567-c74d-4bdc-a24c-7094eb43d79b",
   "metadata": {},
   "outputs": [
    {
     "name": "stdout",
     "output_type": "stream",
     "text": [
      "tensor([[1., 0., 1., 1.],\n",
      "        [1., 0., 1., 1.],\n",
      "        [1., 0., 1., 1.],\n",
      "        [1., 0., 1., 1.]])\n"
     ]
    }
   ],
   "source": [
    "tensor = tc.ones(4,4)\n",
    "tensor[:,1]=0\n",
    "print(tensor)"
   ]
  },
  {
   "cell_type": "markdown",
   "id": "1c462ae8-be8a-4a91-b54d-dda751ae1d31",
   "metadata": {},
   "source": [
    "<strong>텐서합치기</strong>&nbsp;torch.cat을 사용하여 주어진 차원에 따라 일련의 텐서를 연결할 수 있습니다. torch.cat과 미묘하게 다른 텐서 결합연산인 torch.stack이 있다."
   ]
  },
  {
   "cell_type": "code",
   "execution_count": 29,
   "id": "d700e33d-4a60-442d-b1a5-3f6190c34eb5",
   "metadata": {},
   "outputs": [
    {
     "name": "stdout",
     "output_type": "stream",
     "text": [
      "tensor([[1., 0., 1., 1., 1., 0., 1., 1., 1., 0., 1., 1.],\n",
      "        [1., 0., 1., 1., 1., 0., 1., 1., 1., 0., 1., 1.],\n",
      "        [1., 0., 1., 1., 1., 0., 1., 1., 1., 0., 1., 1.],\n",
      "        [1., 0., 1., 1., 1., 0., 1., 1., 1., 0., 1., 1.]])\n"
     ]
    }
   ],
   "source": [
    "t1=tc.cat([tensor,tensor,tensor],dim=1) #dim=1은 가로로 dim=0은 세로로 결합\n",
    "print(t1)"
   ]
  },
  {
   "cell_type": "markdown",
   "id": "6d11778f-d92d-4f08-a7d1-525cc7578965",
   "metadata": {},
   "source": [
    "<strong>텐서곱하기</strong>"
   ]
  },
  {
   "cell_type": "code",
   "execution_count": 33,
   "id": "6096c3d2-74d3-4626-8139-7a374f83f068",
   "metadata": {},
   "outputs": [
    {
     "name": "stdout",
     "output_type": "stream",
     "text": [
      "tensor.mul(tensor) \n",
      " tensor([[1., 0., 1., 1.],\n",
      "        [1., 0., 1., 1.],\n",
      "        [1., 0., 1., 1.],\n",
      "        [1., 0., 1., 1.]])\n",
      "\n",
      "tensor * tensor \n",
      " tensor([[1., 0., 1., 1.],\n",
      "        [1., 0., 1., 1.],\n",
      "        [1., 0., 1., 1.],\n",
      "        [1., 0., 1., 1.]])\n"
     ]
    }
   ],
   "source": [
    "#요소별 곱(element-wise product)을 계산합니다.\n",
    "print(f\"tensor.mul(tensor) \\n {tensor.mul(tensor)}\\n\")\n",
    "\n",
    "#다른 문법\n",
    "print(f\"tensor * tensor \\n {tensor * tensor}\")"
   ]
  },
  {
   "cell_type": "markdown",
   "id": "614a9419-78ca-4eea-9f7a-3de524e558e2",
   "metadata": {},
   "source": [
    "<strong>두 텐서 간의 행렬 곱(marix multiplication)</strong>"
   ]
  },
  {
   "cell_type": "code",
   "execution_count": 36,
   "id": "02a8156c-deb3-43a8-a547-3f3fc7c95706",
   "metadata": {},
   "outputs": [
    {
     "name": "stdout",
     "output_type": "stream",
     "text": [
      "tensor.matmul(tensor.T)\n",
      " tensor([[3., 3., 3., 3.],\n",
      "        [3., 3., 3., 3.],\n",
      "        [3., 3., 3., 3.],\n",
      "        [3., 3., 3., 3.]])\n",
      "\n",
      "tensor @ tensor\n",
      " tensor([[3., 3., 3., 3.],\n",
      "        [3., 3., 3., 3.],\n",
      "        [3., 3., 3., 3.],\n",
      "        [3., 3., 3., 3.]])\n"
     ]
    }
   ],
   "source": [
    "print(f\"tensor.matmul(tensor.T)\\n {tensor.matmul(tensor.T)}\\n\")\n",
    "#다른문법\n",
    "print(f\"tensor @ tensor\\n {tensor @ tensor.T}\") # tensor.T => transpose tensor "
   ]
  },
  {
   "cell_type": "markdown",
   "id": "654819e7-9707-4811-afe7-b38ee38a4665",
   "metadata": {},
   "source": [
    "<strong>바꿔치기(in-place)연산</strong> &nbsp \"\\_\" 접미사를 갖는 연산들을 바꿔치기연산입니다. 예를 들어: x.copy_()나 x.t_()는 x를 변경합니다."
   ]
  },
  {
   "cell_type": "code",
   "execution_count": 37,
   "id": "3fe4c24c-f259-47ec-bf9e-4c5acd5d8eca",
   "metadata": {},
   "outputs": [
    {
     "name": "stdout",
     "output_type": "stream",
     "text": [
      "tensor([[1., 0., 1., 1.],\n",
      "        [1., 0., 1., 1.],\n",
      "        [1., 0., 1., 1.],\n",
      "        [1., 0., 1., 1.]]) \n",
      "\n",
      "tensor([[6., 5., 6., 6.],\n",
      "        [6., 5., 6., 6.],\n",
      "        [6., 5., 6., 6.],\n",
      "        [6., 5., 6., 6.]])\n"
     ]
    }
   ],
   "source": [
    "print(tensor, \"\\n\")\n",
    "tensor.add_(5)\n",
    "print(tensor)"
   ]
  },
  {
   "cell_type": "markdown",
   "id": "55dab8b8-f2ed-4058-9363-5f8a82b199be",
   "metadata": {},
   "source": [
    "<h3>Bridge\n",
    "    Numpy 변환(Bridge)\n",
    "</h3>\n",
    "\n",
    "CPU 상의 텐서와 Numpy배열은 메모리 공간을 공유하기 때문에, 하나를 변경하면 다른 하나도 변경됩니다.\n",
    "\n",
    "<strong>텐서를 Numpy배열로 변환하기</strong>"
   ]
  },
  {
   "cell_type": "code",
   "execution_count": 38,
   "id": "3cd64656-d850-4506-866a-cf58902dabf4",
   "metadata": {},
   "outputs": [
    {
     "name": "stdout",
     "output_type": "stream",
     "text": [
      "t: tensor([1., 1., 1., 1., 1.])\n",
      "n: [1. 1. 1. 1. 1.]\n"
     ]
    }
   ],
   "source": [
    "t = tc.ones(5)\n",
    "print(f\"t: {t}\")\n",
    "n = t.numpy()\n",
    "print(f\"n: {n}\")"
   ]
  },
  {
   "cell_type": "markdown",
   "id": "30f9050b-9bd9-4f47-8e92-2bc130eb3385",
   "metadata": {},
   "source": [
    "텐서의 변경사항이 Nump배열에 반영됩니다."
   ]
  },
  {
   "cell_type": "code",
   "execution_count": 39,
   "id": "85c666da-6f70-4bad-975b-1e464d3a06d9",
   "metadata": {},
   "outputs": [
    {
     "name": "stdout",
     "output_type": "stream",
     "text": [
      "t: tensor([2., 2., 2., 2., 2.])\n",
      "n: [2. 2. 2. 2. 2.]\n"
     ]
    }
   ],
   "source": [
    "t.add_(1)\n",
    "print(f\"t: {t}\")\n",
    "print(f\"n: {n}\")"
   ]
  },
  {
   "cell_type": "markdown",
   "id": "6e93c60d-3e46-4cde-b33d-3301e8560c7a",
   "metadata": {},
   "source": [
    "<strong>Numpy 배열을 텐서로 변환하기</strong>"
   ]
  },
  {
   "cell_type": "code",
   "execution_count": 42,
   "id": "38ce8c03-2a40-4ad1-a391-62391cdffbac",
   "metadata": {},
   "outputs": [
    {
     "name": "stdout",
     "output_type": "stream",
     "text": [
      "t: tensor([2., 2., 2., 2., 2.], dtype=torch.float64)\n",
      "n: [2. 2. 2. 2. 2.]\n"
     ]
    }
   ],
   "source": [
    "n=np.ones(5)\n",
    "t=tc.from_numpy(n)\n",
    "\n",
    "np.add(n,1,out=n)\n",
    "print(f\"t: {t}\")\n",
    "print(f\"n: {n}\")"
   ]
  },
  {
   "cell_type": "code",
   "execution_count": 50,
   "id": "15ce3cf1-4469-49b9-8d16-21249dc84d74",
   "metadata": {},
   "outputs": [
    {
     "data": {
      "text/plain": [
       "tensor([[0.7189, 0.1088, 0.7734],\n",
       "        [0.7823, 0.4994, 0.5248]])"
      ]
     },
     "execution_count": 50,
     "metadata": {},
     "output_type": "execute_result"
    }
   ],
   "source": [
    "tc.rand(2,3)"
   ]
  },
  {
   "cell_type": "code",
   "execution_count": null,
   "id": "cd4cd24b-84da-45d1-a392-c2e3dbca460e",
   "metadata": {},
   "outputs": [],
   "source": []
  }
 ],
 "metadata": {
  "kernelspec": {
   "display_name": "Python 3 (ipykernel)",
   "language": "python",
   "name": "python3"
  },
  "language_info": {
   "codemirror_mode": {
    "name": "ipython",
    "version": 3
   },
   "file_extension": ".py",
   "mimetype": "text/x-python",
   "name": "python",
   "nbconvert_exporter": "python",
   "pygments_lexer": "ipython3",
   "version": "3.9.7"
  }
 },
 "nbformat": 4,
 "nbformat_minor": 5
}
